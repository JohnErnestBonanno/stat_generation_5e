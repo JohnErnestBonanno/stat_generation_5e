{
 "cells": [
  {
   "cell_type": "code",
   "execution_count": 1,
   "id": "9f2fc408-4f34-4e5c-8efb-7188e7ef539f",
   "metadata": {},
   "outputs": [],
   "source": [
    "# imports\n",
    "\n",
    "#standard\n",
    "import pandas as pd\n",
    "import random\n",
    "from datetime import datetime\n",
    "from pandasql import sqldf\n",
    "pysqldf = lambda q: sqldf(q,globals())\n",
    "\n",
    "#Viz\n",
    "import matplotlib.pyplot as plt\n",
    "import seaborn as sns\n",
    "import plotly.express as px"
   ]
  },
  {
   "cell_type": "code",
   "execution_count": 55,
   "id": "485a6982-1279-4c8a-83cd-b1d774464920",
   "metadata": {},
   "outputs": [],
   "source": [
    "#Custom Functions \n",
    "\n",
    "def d6():\n",
    "    #Return a random integer between [1-6]    \n",
    "    roll = random.randint(1,6)\n",
    "    return(roll)\n",
    "\n",
    "def roll_four_drop_lowest():\n",
    "    single_stat_list = []\n",
    "    for x in range(0,4):\n",
    "        roll = d6()\n",
    "        single_stat_list.append(roll)\n",
    "    single_stat_list.sort()\n",
    "    single_stat_list = single_stat_list[1:4] #Removes the lowest\n",
    "    return(sum(single_stat_list))\n",
    "\n",
    "def colville_calculation():\n",
    "    stat_list = []\n",
    "    \n",
    "    while True:\n",
    "        stat_list = [roll_four_drop_lowest() for i in range(6)]\n",
    "        \n",
    "        # Count how many stats are 15 or higher\n",
    "        high_stats = [stat for stat in stat_list if stat >= 15]\n",
    "        \n",
    "        if len(high_stats) >= 2:\n",
    "            break  # Breaks loop if at least 2 stats are >= 15\n",
    "    \n",
    "    return stat_list\n",
    "\n",
    "def mercer_calculation():\n",
    "    stat_list = []\n",
    "    \n",
    "    while True:\n",
    "        stat_list = [roll_four_drop_lowest() for i in range(6)]\n",
    "        \n",
    "        # Only \n",
    "        if sum(stat_list) >= 70:\n",
    "            break  # Breaks loop if stat total isn't about 70\n",
    "    \n",
    "    return stat_list"
   ]
  },
  {
   "cell_type": "code",
   "execution_count": 56,
   "id": "f9828de8-96a1-4e0b-b216-3be8e976e106",
   "metadata": {},
   "outputs": [
    {
     "name": "stdout",
     "output_type": "stream",
     "text": [
      "[15, 17, 14, 18, 9, 8]\n",
      "[13, 14, 14, 14, 12, 12]\n"
     ]
    }
   ],
   "source": [
    "x = colville_calculation()\n",
    "y = mercer_calculation()\n",
    "\n",
    "print(x)\n",
    "print(y)"
   ]
  }
 ],
 "metadata": {
  "kernelspec": {
   "display_name": "Python 3 (ipykernel)",
   "language": "python",
   "name": "python3"
  },
  "language_info": {
   "codemirror_mode": {
    "name": "ipython",
    "version": 3
   },
   "file_extension": ".py",
   "mimetype": "text/x-python",
   "name": "python",
   "nbconvert_exporter": "python",
   "pygments_lexer": "ipython3",
   "version": "3.9.13"
  }
 },
 "nbformat": 4,
 "nbformat_minor": 5
}
